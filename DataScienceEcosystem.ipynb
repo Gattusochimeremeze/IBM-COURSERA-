{
 "cells": [
  {
   "cell_type": "markdown",
   "id": "87efee63-6e48-4d73-9114-114b7302cf44",
   "metadata": {},
   "source": [
    "# DATA SCIENCE TOOLS AND ECOSYSTEM"
   ]
  },
  {
   "cell_type": "code",
   "execution_count": 1,
   "id": "fed0df78-bee7-402f-8ce1-8fffed03c3e7",
   "metadata": {},
   "outputs": [],
   "source": [
    "# In this notebook data science tools and ecosystem are summarized"
   ]
  },
  {
   "cell_type": "markdown",
   "id": "30134283-7b69-46db-9cf4-c56b3ad2e1dd",
   "metadata": {},
   "source": [
    "__Objectives__\n",
    "- create markdown cell with title of notebook\n",
    "- create a markdown cell to list data science languages\n",
    "- create a markdown cell to list data science libraries\n",
    "- create a markdown cell with a table of data science tools"
   ]
  },
  {
   "cell_type": "code",
   "execution_count": null,
   "id": "cdff7ca7-04ef-49ee-b99a-283efa4ac523",
   "metadata": {},
   "outputs": [],
   "source": []
  },
  {
   "cell_type": "markdown",
   "id": "afa1b17e-a529-4a1f-8697-7516074ed4df",
   "metadata": {},
   "source": [
    "# Some of the popular languages that data scientists use are\n",
    "1. Scala\n",
    "2. Java\n",
    "3. C++\n",
    "4. Julia"
   ]
  },
  {
   "cell_type": "markdown",
   "id": "d73f38dc-de68-4787-afaa-5f5b70640430",
   "metadata": {},
   "source": [
    "# some of the commonly used libraries used by data scientists include;\n",
    "1. scientific computing libraries in python.\n",
    "2. visualization libraries in python.\n",
    "3. high level machine learning and deep learning.\n",
    "4. deep learning libraries in python.\n"
   ]
  },
  {
   "cell_type": "markdown",
   "id": "ba58350e-1503-4338-a1d9-4502f267c2f5",
   "metadata": {},
   "source": [
    "| Data Science tools |\n",
    "|-------------------- |\n",
    "| My SQL |\n",
    "| PostgresSQL  |\n",
    "| Mongo DB  |"
   ]
  },
  {
   "cell_type": "markdown",
   "id": "fe8ce0ad-bde8-4859-96eb-d82947c5eff7",
   "metadata": {},
   "source": [
    "### Below are a few examples of evaluating arithmetic expressions in python"
   ]
  },
  {
   "cell_type": "code",
   "execution_count": 5,
   "id": "5a6a0603-0a1d-41a3-907c-222aba493f0d",
   "metadata": {},
   "outputs": [
    {
     "data": {
      "text/plain": [
       "17"
      ]
     },
     "execution_count": 5,
     "metadata": {},
     "output_type": "execute_result"
    }
   ],
   "source": [
    "# This is a simple arithmetic expression to multiply then add integers\n",
    "(3*4) + 5"
   ]
  },
  {
   "cell_type": "code",
   "execution_count": 11,
   "id": "41531647-399c-4e5a-a5eb-76a1f11e7a11",
   "metadata": {},
   "outputs": [
    {
     "data": {
      "text/plain": [
       "3.3333333333333335"
      ]
     },
     "execution_count": 11,
     "metadata": {},
     "output_type": "execute_result"
    }
   ],
   "source": [
    "# This will convert 200 minutes to hours by dividing by 60\n",
    "time = 200\n",
    "time / 60"
   ]
  },
  {
   "cell_type": "markdown",
   "id": "c2574424-8d32-44ba-8f7f-29120f76499b",
   "metadata": {},
   "source": [
    "## AUTHOR \n",
    "EMMANUEL CHIMEREMEZE ONWUGHARA"
   ]
  },
  {
   "cell_type": "code",
   "execution_count": null,
   "id": "05bd32f6-3b59-4fc4-81b0-691245ef9139",
   "metadata": {},
   "outputs": [],
   "source": []
  },
  {
   "cell_type": "code",
   "execution_count": null,
   "id": "ebf47766-d390-49b2-8590-559f3c8b0913",
   "metadata": {},
   "outputs": [],
   "source": []
  },
  {
   "cell_type": "code",
   "execution_count": null,
   "id": "aad7634e-4242-42c9-8ae6-1f6b53813e5a",
   "metadata": {},
   "outputs": [],
   "source": []
  },
  {
   "cell_type": "code",
   "execution_count": null,
   "id": "8c60368b-1a1b-454e-a8a6-f6648214f9c8",
   "metadata": {},
   "outputs": [],
   "source": []
  },
  {
   "cell_type": "code",
   "execution_count": null,
   "id": "9db67612-76e4-4ae1-a910-992b6f31e218",
   "metadata": {},
   "outputs": [],
   "source": []
  },
  {
   "cell_type": "code",
   "execution_count": null,
   "id": "d5f29c57-645e-4fe8-a16a-8538b0caa5a6",
   "metadata": {},
   "outputs": [],
   "source": []
  },
  {
   "cell_type": "code",
   "execution_count": null,
   "id": "518ed5c6-c81f-46cb-9379-3eeee2ab75a1",
   "metadata": {},
   "outputs": [],
   "source": []
  },
  {
   "cell_type": "code",
   "execution_count": null,
   "id": "a486aa39-555e-4141-a596-e3352fe0d85e",
   "metadata": {},
   "outputs": [],
   "source": []
  },
  {
   "cell_type": "code",
   "execution_count": null,
   "id": "3e5a0c8d-900b-4dff-bbc1-d49425b94e1d",
   "metadata": {},
   "outputs": [],
   "source": []
  },
  {
   "cell_type": "code",
   "execution_count": null,
   "id": "f650079b-ae89-4bb7-89ff-7092dfcf0cb6",
   "metadata": {},
   "outputs": [],
   "source": []
  }
 ],
 "metadata": {
  "kernelspec": {
   "display_name": "Python 3 (ipykernel)",
   "language": "python",
   "name": "python3"
  },
  "language_info": {
   "codemirror_mode": {
    "name": "ipython",
    "version": 3
   },
   "file_extension": ".py",
   "mimetype": "text/x-python",
   "name": "python",
   "nbconvert_exporter": "python",
   "pygments_lexer": "ipython3",
   "version": "3.11.7"
  }
 },
 "nbformat": 4,
 "nbformat_minor": 5
}
